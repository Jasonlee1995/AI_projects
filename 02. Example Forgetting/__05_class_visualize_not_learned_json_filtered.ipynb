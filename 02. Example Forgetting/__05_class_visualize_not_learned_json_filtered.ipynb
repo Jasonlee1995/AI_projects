{
 "cells": [
  {
   "cell_type": "code",
   "execution_count": 1,
   "id": "1bde403f",
   "metadata": {},
   "outputs": [],
   "source": [
    "import json"
   ]
  },
  {
   "cell_type": "code",
   "execution_count": 2,
   "id": "b4cc783f",
   "metadata": {},
   "outputs": [],
   "source": [
    "epochs = [40, 60, 90, 120, 180, 270, 450]\n",
    "train_json = './not_learned_train_filtered.json'"
   ]
  },
  {
   "cell_type": "code",
   "execution_count": 3,
   "id": "f9cf76d5",
   "metadata": {},
   "outputs": [
    {
     "name": "stdout",
     "output_type": "stream",
     "text": [
      "27 - eft\n",
      "41 - whiptail\n",
      "54 - hognose_snake\n",
      "59 - vine_snake\n",
      "60 - night_snake\n",
      "66 - horned_viper\n",
      "78 - tick\n",
      "158 - toy_terrier\n",
      "163 - bloodhound\n",
      "167 - English_foxhound\n",
      "168 - redbone\n",
      "170 - Irish_wolfhound\n",
      "173 - Ibizan_hound\n",
      "183 - Kerry_blue_terrier\n",
      "184 - Irish_terrier\n",
      "186 - Norwich_terrier\n",
      "188 - wire-haired_fox_terrier\n",
      "193 - Australian_terrier\n",
      "197 - giant_schnauzer\n",
      "199 - Scotch_terrier\n",
      "200 - Tibetan_terrier\n",
      "212 - English_setter\n",
      "216 - clumber\n",
      "220 - Sussex_spaniel\n",
      "240 - Appenzeller\n",
      "244 - Tibetan_mastiff\n",
      "256 - Newfoundland\n",
      "273 - dingo\n",
      "274 - dhole\n",
      "357 - mink\n",
      "371 - patas\n",
      "380 - titi\n",
      "455 - bottlecap\n",
      "471 - cannon\n",
      "479 - car_wheel\n",
      "501 - cloak\n",
      "509 - confectionery\n",
      "551 - face_powder\n",
      "600 - hook\n",
      "632 - loudspeaker\n",
      "649 - megalith\n",
      "659 - mixing_bowl\n",
      "695 - padlock\n",
      "705 - passenger_car\n",
      "714 - pick\n",
      "754 - radio\n",
      "761 - remote_control\n",
      "762 - restaurant\n",
      "898 - water_bottle\n",
      "961 - dough\n",
      "995 - earthstar\n",
      "996 - hen-of-the-woods\n"
     ]
    }
   ],
   "source": [
    "with open(train_json, 'r') as json_file:\n",
    "    json_data = json.load(json_file)\n",
    "    for label in json_data:\n",
    "        epoch_set = set()\n",
    "        for img_dir in json_data[label]:\n",
    "            epoch_set.add(json_data[label][img_dir])\n",
    "        \n",
    "        if len(epoch_set) == len(epochs):\n",
    "            print(label)"
   ]
  }
 ],
 "metadata": {
  "kernelspec": {
   "display_name": "Python 3 (ipykernel)",
   "language": "python",
   "name": "python3"
  },
  "language_info": {
   "codemirror_mode": {
    "name": "ipython",
    "version": 3
   },
   "file_extension": ".py",
   "mimetype": "text/x-python",
   "name": "python",
   "nbconvert_exporter": "python",
   "pygments_lexer": "ipython3",
   "version": "3.9.12"
  }
 },
 "nbformat": 4,
 "nbformat_minor": 5
}
